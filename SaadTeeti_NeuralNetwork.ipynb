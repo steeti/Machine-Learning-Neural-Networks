{
 "cells": [
  {
   "cell_type": "markdown",
   "metadata": {},
   "source": [
    "# Neural Network from Scratch\n"
   ]
  },
  {
   "cell_type": "markdown",
   "metadata": {},
   "source": [
    "## Import libraries\n",
    "\n",
    "We will be using the lower resolution MINST data set"
   ]
  },
  {
   "cell_type": "code",
   "execution_count": 1,
   "metadata": {},
   "outputs": [],
   "source": [
    "from sklearn.datasets import load_digits # The MNIST data set is in scikit learn data set\n",
    "from sklearn.preprocessing import StandardScaler  # It is important in neural networks to scale the date\n",
    "from sklearn.model_selection import train_test_split  # The standard - train/test to prevent overfitting and choose hyperparameters\n",
    "from sklearn.metrics import accuracy_score # \n",
    "import numpy as np\n",
    "import numpy.random as r # We will randomly initialize our weights\n",
    "import matplotlib.pyplot as plt "
   ]
  },
  {
   "cell_type": "markdown",
   "metadata": {},
   "source": [
    "## Looking at the data\n",
    "\n",
    "After we load the data, we print the shape of the data and a pixelated digit.\n",
    "\n",
    "We also show what the features of one example looks like.\n",
    "\n",
    "The neural net will learn to estimate which digit these pixels represent."
   ]
  },
  {
   "cell_type": "code",
   "execution_count": 2,
   "metadata": {},
   "outputs": [
    {
     "name": "stdout",
     "output_type": "stream",
     "text": [
      "The shape of the digits dataset:\n",
      "(1797, 64)\n"
     ]
    },
    {
     "data": {
      "text/plain": [
       "<Figure size 432x288 with 0 Axes>"
      ]
     },
     "metadata": {},
     "output_type": "display_data"
    },
    {
     "data": {
      "image/png": "[encoded data removed]",
      "text/plain": [
       "<Figure size 288x288 with 1 Axes>"
      ]
     },
     "metadata": {
      "needs_background": "light"
     },
     "output_type": "display_data"
    },
    {
     "name": "stdout",
     "output_type": "stream",
     "text": [
      "[0]\n",
      "[ 0.  0.  5. 13.  9.  1.  0.  0.  0.  0. 13. 15. 10. 15.  5.  0.  0.  3.\n",
      " 15.  2.  0. 11.  8.  0.  0.  4. 12.  0.  0.  8.  8.  0.  0.  5.  8.  0.\n",
      "  0.  9.  8.  0.  0.  4. 11.  0.  1. 12.  7.  0.  0.  2. 14.  5. 10. 12.\n",
      "  0.  0.  0.  0.  6. 13. 10.  0.  0.  0.]\n"
     ]
    }
   ],
   "source": [
    "# load all the digits (img)\n",
    "digits = load_digits()\n",
    "\n",
    "# load the data from the digit (img)\n",
    "data = digits.data\n",
    "target = digits.target\n",
    "\n",
    "print(\"The shape of the digits dataset:\") \n",
    "print(digits.data.shape)\n",
    "# plot the digits\n",
    "# using .gray()\n",
    "# and .matshow() with argument digit.images[xx]\n",
    "plt.gray()\n",
    "plt.matshow(digits.images[0])\n",
    "plt.show()\n",
    "\n",
    "# get the gt for this digit img\n",
    "X = data\n",
    "y = target\n",
    "\n",
    "print(y[0:1])\n",
    "print(X[0,:])"
   ]
  },
  {
   "cell_type": "markdown",
   "metadata": {},
   "source": [
    "## 1) Scale the dataset\n",
    "The training features range from 0 to 15.  To help the algorithm converge, we will scale the data to have a mean of 0 and unit variance"
   ]
  },
  {
   "cell_type": "code",
   "execution_count": 3,
   "metadata": {},
   "outputs": [],
   "source": [
    "# use the stander lib to scale the data\n",
    "# init the scaler \n",
    "scaler = StandardScaler()\n",
    "# fit the data to the scaler \n",
    "scaler.fit(X)\n",
    "# Looking the new features after scaling\n",
    "X_Scaled = scaler.transform(X)\n"
   ]
  },
  {
   "cell_type": "markdown",
   "metadata": {},
   "source": [
    "## 2) Creating training and test datasets\n",
    "We split the data into training and test data sets. We will train the neural network with the training dataset, and evaluate our neural network with the test dataset "
   ]
  },
  {
   "cell_type": "code",
   "execution_count": 4,
   "metadata": {},
   "outputs": [],
   "source": [
    "#Split the data into training and test set.  60% training and %40 test\n",
    "XTrain, XTest, yTrain, yTest = train_test_split(X_Scaled, y, train_size = 0.6,test_size = 0.4, random_state=5)\n"
   ]
  },
  {
   "cell_type": "markdown",
   "metadata": {},
   "source": [
    "## 3) Setting up the output layer"
   ]
  },
  {
   "cell_type": "markdown",
   "metadata": {},
   "source": [
    "### One hot encoding"
   ]
  },
  {
   "cell_type": "code",
   "execution_count": 5,
   "metadata": {},
   "outputs": [],
   "source": [
    "def convert_y_to_vect(y):\n",
    "#     Our target is an integer in the range [0,..,9], so we will have 10 output neuron's in our network.  \n",
    "\n",
    "#     If  y=0 we want the output neurons to have the values (1,0,0,0,0,0,0,0,0,0)\n",
    "#     If  y=1 we want the output neurons to have the values (0,1,0,0,0,0,0,0,0,0)\n",
    "#     etc\n",
    "\n",
    "#     Thus we need to change our target so it is the same as our hoped for output of the neural network. \n",
    "\n",
    "#     If y=0$we change it into the vector (1,0,0,0,0,0,0,0,0,0)\n",
    "#     If y=1 we change it into the vector (0,1,0,0,0,0,0,0,0,0)\n",
    "#     etc\n",
    "\n",
    "#     The code to covert the target vector.\n",
    "    outputneurons = np.zeros((y.shape[0], 10))\n",
    "    v=np.linspace(0,y.shape[0]-1,y.shape[0], dtype=int)\n",
    "    outputneurons[v,y] = 1\n",
    "    return outputneurons\n",
    "    "
   ]
  },
  {
   "cell_type": "markdown",
   "metadata": {},
   "source": [
    "Converting the training and test targets to vectors "
   ]
  },
  {
   "cell_type": "code",
   "execution_count": 6,
   "metadata": {},
   "outputs": [],
   "source": [
    "# convert digits to vectors using the func above\n",
    "\n",
    "# appky this to both train and test splits\n",
    "y_v_test = convert_y_to_vect(yTest)\n",
    "y_v_train = convert_y_to_vect(yTrain)\n"
   ]
  },
  {
   "cell_type": "markdown",
   "metadata": {},
   "source": [
    "A quick check to see that our code performs as we expect "
   ]
  },
  {
   "cell_type": "code",
   "execution_count": 7,
   "metadata": {},
   "outputs": [
    {
     "name": "stdout",
     "output_type": "stream",
     "text": [
      "[2 4 8 1]\n",
      "[[0. 0. 1. 0. 0. 0. 0. 0. 0. 0.]\n",
      " [0. 0. 0. 0. 1. 0. 0. 0. 0. 0.]\n",
      " [0. 0. 0. 0. 0. 0. 0. 0. 1. 0.]\n",
      " [0. 1. 0. 0. 0. 0. 0. 0. 0. 0.]]\n"
     ]
    }
   ],
   "source": [
    "print(yTrain[0:4])\n",
    "print(y_v_train[0:4])"
   ]
  },
  {
   "cell_type": "markdown",
   "metadata": {},
   "source": [
    "## 4) Creating the neural network"
   ]
  },
  {
   "cell_type": "markdown",
   "metadata": {},
   "source": [
    "### The activation function and its derivative"
   ]
  },
  {
   "cell_type": "code",
   "execution_count": 8,
   "metadata": {},
   "outputs": [],
   "source": [
    "# We will use the sigmoid activation function:  f(z)={1}/{1+e^{-z}}\n",
    "def sigmoid(z):\n",
    "    return 1/(1 + np.e**(-z))\n",
    "    re\n",
    "# The deriviative of the sigmoid function is: $f'(z) = f(z)(1-f(z))$ \n",
    "def sigmoid_deriv(z):\n",
    "    return sigmoid(z)*(1-sigmoid(z))\n",
    "def tanh(z):\n",
    "    return (np.e**(2*z)-1)/(np.e**(2*z)+1)\n",
    "def tanh_deriv(z):\n",
    "    return 1-tanh(z)**2\n",
    "def relu(z):\n",
    "    return np.maximum(0, z)\n",
    "def relu_deriv(z):\n",
    "    return (z>0).astype(int)\n",
    "\n",
    "def f(z, ftype):\n",
    "    if ftype==\"sigmoid\":\n",
    "        m=sigmoid(z)\n",
    "        return m\n",
    "    elif ftype==\"tanh\":\n",
    "        m= tanh(z)\n",
    "        return m\n",
    "    elif ftype==\"relu\":\n",
    "        m= relu(z)\n",
    "        return m\n",
    "def f_deriv(z, ftype):\n",
    "    if ftype==\"sigmoid_d\":\n",
    "        m= sigmoid_deriv(z)\n",
    "        return m\n",
    "    elif ftype==\"tanh_d\":\n",
    "        m= tanh_deriv(z)\n",
    "        return m\n",
    "    elif ftype==\"relu_d\":\n",
    "        m= relu_deriv(z)\n",
    "        return m\n",
    "\n",
    "    "
   ]
  },
  {
   "cell_type": "markdown",
   "metadata": {},
   "source": [
    "### Creating and initialing W and b\n"
   ]
  },
  {
   "cell_type": "code",
   "execution_count": 9,
   "metadata": {},
   "outputs": [
    {
     "name": "stdout",
     "output_type": "stream",
     "text": [
      "(35,)\n"
     ]
    }
   ],
   "source": [
    "def setup_and_init_weights(nn_structure):\n",
    "    # The weights in W are different so that during back propagation the nodes on a level will have different gradients and thus have different update values.\n",
    "    #creating a dictionary for wiehgts i.e. a set of key: value pairs\n",
    "    weightsdic = {}\n",
    "\n",
    "    #creating a dictionary for bias i.e. a set of key: value pairs\n",
    "    biasdic = {}\n",
    "\n",
    "    for i in range(1, len(nn_structure)):\n",
    "        # We want the weights to be small values, since the sigmoid is almost \"flat\" for large inputs.\n",
    "        # Next is the code that assigns each weight a number uniformly drawn from $[0.0, 1.0)$.  \n",
    "        # The code assumes that the number of neurons in each level is in the python list *nn_structure*.\n",
    "        # .random_sample return “continuous uniform” random floats in the half-open interval [0.0, 1.0). \n",
    "        #  numpy.random is imported in the top as r\n",
    "        #divide by the squareroot in order to scale the weights so they become smaller hence would give better aacuracy\n",
    "        weightsdic[i]= r.random_sample((nn_structure[i], nn_structure[i-1])) /np.sqrt(nn_structure[i])\n",
    "#         print(weightsdic[i])\n",
    "#         print(nn_structure[i-1])\n",
    "        biasdic[i]= r.random_sample((nn_structure[i]))\n",
    "        \n",
    "        \n",
    "    # Return weight and b\n",
    "    return weightsdic, biasdic\n",
    "nn_structuree=[60, 35, 10]\n",
    "weight5, bias5=setup_and_init_weights(nn_structuree)\n",
    "print(bias5[1].shape)"
   ]
  },
  {
   "cell_type": "markdown",
   "metadata": {},
   "source": [
    "### Initializing $\\triangledown W$ and $\\triangledown b$\n"
   ]
  },
  {
   "cell_type": "code",
   "execution_count": 10,
   "metadata": {},
   "outputs": [],
   "source": [
    "def init_tri_values(nn_structure):\n",
    "    # Creating dlt_W and dlt_b to have the same size as W and b,and init the dlt_W, and dlt_b to 0\n",
    "    dlt_W={}\n",
    "    dlt_b={}\n",
    "    \n",
    "    # use for loop to init the dlt W and dlt b\n",
    "    for i in range (1, len(nn_structure)):\n",
    "        # you can use np.zeros\n",
    "        dlt_W[i] = np.zeros((nn_structure[i], nn_structure[i-1]))\n",
    "        dlt_b[i] = np.zeros((nn_structure[i],))\n",
    "    return dlt_W, dlt_b"
   ]
  },
  {
   "cell_type": "markdown",
   "metadata": {},
   "source": [
    "## Feed forward\n",
    "Perform a forward pass throught the network.  The function returns the values of $a$ and $z$"
   ]
  },
  {
   "cell_type": "code",
   "execution_count": 11,
   "metadata": {},
   "outputs": [],
   "source": [
    "def feed_forward(x, W, b,ftype):\n",
    "    # create a dictionary for holding the a values for all levels\n",
    "    a = {1: x}\n",
    "    # create a dictionary for holding the z values for all the layers\n",
    "    z = {}\n",
    "    for l in range(1, len(W) + 1):\n",
    "            # z^(l+1) = W^(l)*a^(l) + b^(l)\n",
    "        z[l+1] = W[l].dot(a[l]) + b[l]  \n",
    "            # a^(l+1) = f(z^(l+1))\n",
    "        a[l+1] = f(z[l+1],ftype)\n",
    "        \n",
    "    return a, z"
   ]
  },
  {
   "cell_type": "markdown",
   "metadata": {},
   "source": [
    "## Compute $\\delta$\n",
    "compute $\\delta^{(s_l)}$ in a function called \"calculate_out_layer_delta\",  and  computes $\\delta^{(\\ell)}$ for the hidden layers in the function called \"calculate_hidden_delta\".  \n",
    "\n"
   ]
  },
  {
   "cell_type": "code",
   "execution_count": 12,
   "metadata": {},
   "outputs": [],
   "source": [
    "def calculate_out_layer_delta(y, a_out, z_out,functionderiv):\n",
    "    # delta^(nl) = -(y_i - a_i^(nl)) * f'(z_i^(nl))\n",
    "    outlayerdelta= -(y - a_out) * f_deriv(z_out,functionderiv)\n",
    "    return outlayerdelta\n",
    "\n",
    "\n",
    "def calculate_hidden_delta(delta_plus_1, w_l, z_l,functionderiv):\n",
    "    # delta^(l) = (transpose(W^(l)) * delta^(l+1)) * f'(z^(l))\n",
    "    hiddenDelta= np.dot(np.transpose(w_l), delta_plus_1) * f_deriv(z_l,functionderiv)\n",
    "    return hiddenDelta"
   ]
  },
  {
   "cell_type": "markdown",
   "metadata": {},
   "source": [
    "## The Back Propagation Algorithm\n"
   ]
  },
  {
   "cell_type": "code",
   "execution_count": 13,
   "metadata": {},
   "outputs": [],
   "source": [
    "def train_nn(ftype, nn_structure, X, y, iter_num=3000, alpha=0.25):\n",
    "    \n",
    "    if ftype==1:\n",
    "        function=\"sigmoid\"\n",
    "        functionderiv=\"sigmoid_d\"\n",
    "    elif ftype==2:\n",
    "        function=\"tanh\"\n",
    "        functionderiv=\"tanh_d\"\n",
    "    elif ftype==3:\n",
    "        function=\"relu\"\n",
    "        functionderiv=\"relu_d\"    \n",
    "    # init W and b\n",
    "    W,b = setup_and_init_weights(nn_structure)\n",
    "    # init counter to 0\n",
    "    counter=0\n",
    "    \n",
    "    # store the length of data\n",
    "    lengthofdata = X.shape[0]\n",
    "    \n",
    "    # init a list to store the all costs\n",
    "    allcosts=[]\n",
    "    \n",
    "    print('Starting gradient descent for {} iterations'.format(iter_num))\n",
    "    # while the counter is less than the max iterations:\n",
    "    while counter <iter_num:\n",
    "        # print the iteration number for every 1000 iter\n",
    "        if (counter % 100 == 0):\n",
    "            print(\"Iteration {} \".format(counter))\n",
    "        \n",
    "        # init delt_W and delt_b\n",
    "        delta_W,delta_b = init_tri_values(nn_structure)\n",
    "        # init the cost to 0\n",
    "        cost = 0\n",
    "        # for each data:\n",
    "        for i in range(lengthofdata):\n",
    "            # perform the feed forward pass and return the stored a and z values, to be used in the\n",
    "            # gradient descent step\n",
    "            a,z = feed_forward(X[i], W, b,function)\n",
    "            deltas = {}\n",
    "            # loop from nl-1 to 1 backpropagating the errors\n",
    "            for la in range(len(nn_structure), 0, -1):\n",
    "                #if first layer, calc out layer\n",
    "                if la == len(nn_structure):\n",
    "                    deltas[la] = calculate_out_layer_delta(y[i], a[la], z[la],functionderiv)\n",
    "                    cost = cost + np.sqrt(np.sum((a[la] - y[i])**2))                    \n",
    "                \n",
    "                else:\n",
    "                    #if not first layer then calculate hidden layer\n",
    "                    if la>1:\n",
    "                        deltas[la] = calculate_hidden_delta(deltas[la+1], W[la], z[la], functionderiv)\n",
    "                        \n",
    "                    # triW^(l) = triW^(l) + delta^(l+1) * transpose(a^(l))\n",
    "                        # hit: you can use np.newaxis to increase the number of dimensions\n",
    "                    \n",
    "                    #delta^(l+1)\n",
    "                    p1= deltas[la+1][:,np.newaxis]\n",
    "                    #transpose(a^(l))\n",
    "                    p2= np.transpose(a[la][:,np.newaxis])\n",
    "                    #triW^(l) + delta^(l+1) * transpose(a^(l))\n",
    "                    delta_W[la]=delta_W[la] + np.dot(p1,p2)\n",
    "                    # trib^(l) = trib^(l) + delta^(l+1)\n",
    "                    delta_b[la] =  delta_b[la]+ deltas[la+1]\n",
    "\n",
    "                \n",
    "        # perform the gradient descent step for the weights in each layer\n",
    "        for la in range(len(nn_structure)-1,0,-1):\n",
    "            W[la] = W[la] - (alpha*delta_W[la]/lengthofdata)\n",
    "            b[la] = b[la] - (alpha*delta_b[la]/lengthofdata)\n",
    "        \n",
    "        \n",
    "        # complete the average cost (mean squared error) calculation\n",
    "        avgcost= cost/lengthofdata\n",
    "        # append the cost to the cost list\n",
    "        allcosts.append(avgcost) \n",
    "        \n",
    "        # increase the counter \n",
    "        counter+=1\n",
    "        \n",
    "    return W, b, allcosts"
   ]
  },
  {
   "cell_type": "code",
   "execution_count": 14,
   "metadata": {},
   "outputs": [],
   "source": [
    "def predict_y(W, b, X, n_layers,ftype):\n",
    "    if ftype==1:\n",
    "        function=\"sigmoid\"\n",
    "    elif ftype==2:\n",
    "        function=\"tanh\"\n",
    "    elif ftype==3:\n",
    "        function=\"relu\"\n",
    "    # store the length of data\n",
    "    lengthofdata = X.shape[0]  \n",
    "    # init for prediction array\n",
    "    predictionArray = []\n",
    "    # for each data:\n",
    "    for i, n in enumerate(X):\n",
    "        # feed forward\n",
    "        a,z=feed_forward(n, W, b, function)\n",
    "        # predict\n",
    "#         print(a[n_layers])\n",
    "#         print(max(a[n_layers]))\n",
    "        m=max(a[n_layers])\n",
    "        maxIndexes=[l for l, j in enumerate(a[n_layers]) if j == m]\n",
    "        firstmaxIndex=maxIndexes[:1]\n",
    "#         print(firstmaxIndex[0])\n",
    "        predictionArray.append(firstmaxIndex[0])\n",
    "    return predictionArray"
   ]
  },
  {
   "cell_type": "markdown",
   "metadata": {},
   "source": [
    "## Running the neural network (Sigmoid)\n",
    "### Iter Num= 3000\n",
    "### structure= [64, 30, 10]\n",
    "Our code assumes the size of each layer in our network is held in a list.  The input layer will have 64 neurons (one for each pixel in our 8 by 8 pixelated digit).  Our hidden layer has 30 neurons (you can change this value).  The output layer has 10 neurons.\n",
    "\n",
    "Next we create the python list to hold the number of neurons for each level and then run the neural network code with our training data.\n",
    "\n",
    "This code will take some time..."
   ]
  },
  {
   "cell_type": "code",
   "execution_count": 15,
   "metadata": {},
   "outputs": [
    {
     "name": "stdout",
     "output_type": "stream",
     "text": [
      "Starting gradient descent for 3000 iterations\n",
      "Iteration 0 \n",
      "Iteration 100 \n",
      "Iteration 200 \n",
      "Iteration 300 \n",
      "Iteration 400 \n",
      "Iteration 500 \n",
      "Iteration 600 \n",
      "Iteration 700 \n",
      "Iteration 800 \n",
      "Iteration 900 \n",
      "Iteration 1000 \n",
      "Iteration 1100 \n",
      "Iteration 1200 \n",
      "Iteration 1300 \n",
      "Iteration 1400 \n",
      "Iteration 1500 \n",
      "Iteration 1600 \n",
      "Iteration 1700 \n",
      "Iteration 1800 \n",
      "Iteration 1900 \n",
      "Iteration 2000 \n",
      "Iteration 2100 \n",
      "Iteration 2200 \n",
      "Iteration 2300 \n",
      "Iteration 2400 \n",
      "Iteration 2500 \n",
      "Iteration 2600 \n",
      "Iteration 2700 \n",
      "Iteration 2800 \n",
      "Iteration 2900 \n"
     ]
    }
   ],
   "source": [
    "nn_structure = [64,30, 10]\n",
    "iter_num = 3000\n",
    "# train the NN with the nn_structure and 3000 iterations\n",
    "W1, b1, costList1 = train_nn(1,nn_structure, XTrain, y_v_train, iter_num)\n"
   ]
  },
  {
   "cell_type": "markdown",
   "metadata": {},
   "source": [
    "### Plotting the learning curve\n"
   ]
  },
  {
   "cell_type": "code",
   "execution_count": 16,
   "metadata": {},
   "outputs": [
    {
     "data": {
      "image/png": "[encoded data removed]",
      "text/plain": [
       "<Figure size 432x288 with 1 Axes>"
      ]
     },
     "metadata": {
      "needs_background": "light"
     },
     "output_type": "display_data"
    }
   ],
   "source": [
    "# plot the avg_cost_func \n",
    "plt.plot(costList1)\n",
    "# x label: \"Iteration number\"\n",
    "plt.xlabel('Iteration number')\n",
    "# y label: \"Average J\"\n",
    "plt.ylabel('Average J')\n",
    "plt.show()"
   ]
  },
  {
   "cell_type": "markdown",
   "metadata": {},
   "source": [
    "## 5) Assessing accuracy\n",
    "Next we determine what percentage the neural network correctly predicted the handwritten digit correctly on the test set"
   ]
  },
  {
   "cell_type": "code",
   "execution_count": 17,
   "metadata": {},
   "outputs": [
    {
     "name": "stdout",
     "output_type": "stream",
     "text": [
      "Prediction accuracy is 95.41029207232266%\n"
     ]
    }
   ],
   "source": [
    "# get the prediction accuracy and print\n",
    "y_pred1=predict_y(W1,b1,XTest,len(nn_structure),1)\n",
    "# print(W1)\n",
    "# print(b1)\n",
    "print('Prediction accuracy is {}%'.format(accuracy_score(yTest, y_pred1) * 100))"
   ]
  },
  {
   "cell_type": "markdown",
   "metadata": {},
   "source": [
    "## Running the neural network (TanH)\n",
    "### Iter Num= 3000\n",
    "### structure= [64, 30, 10]"
   ]
  },
  {
   "cell_type": "code",
   "execution_count": 18,
   "metadata": {},
   "outputs": [
    {
     "name": "stdout",
     "output_type": "stream",
     "text": [
      "Starting gradient descent for 3000 iterations\n",
      "Iteration 0 \n",
      "Iteration 100 \n",
      "Iteration 200 \n",
      "Iteration 300 \n",
      "Iteration 400 \n",
      "Iteration 500 \n",
      "Iteration 600 \n",
      "Iteration 700 \n",
      "Iteration 800 \n",
      "Iteration 900 \n",
      "Iteration 1000 \n",
      "Iteration 1100 \n",
      "Iteration 1200 \n",
      "Iteration 1300 \n",
      "Iteration 1400 \n",
      "Iteration 1500 \n",
      "Iteration 1600 \n",
      "Iteration 1700 \n",
      "Iteration 1800 \n",
      "Iteration 1900 \n",
      "Iteration 2000 \n",
      "Iteration 2100 \n",
      "Iteration 2200 \n",
      "Iteration 2300 \n",
      "Iteration 2400 \n",
      "Iteration 2500 \n",
      "Iteration 2600 \n",
      "Iteration 2700 \n",
      "Iteration 2800 \n",
      "Iteration 2900 \n"
     ]
    },
    {
     "data": {
      "image/png": "[encoded data removed]",
      "text/plain": [
       "<Figure size 432x288 with 1 Axes>"
      ]
     },
     "metadata": {
      "needs_background": "light"
     },
     "output_type": "display_data"
    }
   ],
   "source": [
    "# train the NN with the nn_structure and 3000 iterations\n",
    "W2, b2, costList2 = train_nn(2,nn_structure, XTrain, y_v_train, iter_num)\n",
    "# plot the avg_cost_func \n",
    "plt.plot(costList2)\n",
    "# x label: \"Iteration number\"\n",
    "plt.xlabel('Iteration number')\n",
    "# y label: \"Average J\"\n",
    "plt.ylabel('Average J')\n",
    "plt.show()\n"
   ]
  },
  {
   "cell_type": "code",
   "execution_count": 19,
   "metadata": {},
   "outputs": [
    {
     "name": "stdout",
     "output_type": "stream",
     "text": [
      "Prediction accuracy is 96.105702364395%\n"
     ]
    }
   ],
   "source": [
    "# print(W2)\n",
    "# print(b2)\n",
    "y_pred2=predict_y(W2,b2,XTest,len(nn_structure),2)\n",
    "print('Prediction accuracy is {}%'.format(accuracy_score(yTest, y_pred2) * 100))\n"
   ]
  },
  {
   "cell_type": "markdown",
   "metadata": {},
   "source": [
    "## Running the neural network (Relu)\n",
    "### Iter Num= 3000\n",
    "### structure= [64, 30, 10]"
   ]
  },
  {
   "cell_type": "code",
   "execution_count": 20,
   "metadata": {},
   "outputs": [
    {
     "name": "stdout",
     "output_type": "stream",
     "text": [
      "Starting gradient descent for 3000 iterations\n",
      "Iteration 0 \n",
      "Iteration 100 \n",
      "Iteration 200 \n",
      "Iteration 300 \n",
      "Iteration 400 \n",
      "Iteration 500 \n",
      "Iteration 600 \n",
      "Iteration 700 \n",
      "Iteration 800 \n",
      "Iteration 900 \n",
      "Iteration 1000 \n",
      "Iteration 1100 \n",
      "Iteration 1200 \n",
      "Iteration 1300 \n",
      "Iteration 1400 \n",
      "Iteration 1500 \n",
      "Iteration 1600 \n",
      "Iteration 1700 \n",
      "Iteration 1800 \n",
      "Iteration 1900 \n",
      "Iteration 2000 \n",
      "Iteration 2100 \n",
      "Iteration 2200 \n",
      "Iteration 2300 \n",
      "Iteration 2400 \n",
      "Iteration 2500 \n",
      "Iteration 2600 \n",
      "Iteration 2700 \n",
      "Iteration 2800 \n",
      "Iteration 2900 \n"
     ]
    },
    {
     "data": {
      "image/png": "[encoded data removed]",
      "text/plain": [
       "<Figure size 432x288 with 1 Axes>"
      ]
     },
     "metadata": {
      "needs_background": "light"
     },
     "output_type": "display_data"
    },
    {
     "name": "stdout",
     "output_type": "stream",
     "text": [
      "Prediction accuracy is 10.15299026425591%\n"
     ]
    }
   ],
   "source": [
    "# train the NN with the nn_structure and 3000 iterations\n",
    "W3, b3, costList3 = train_nn(3,nn_structure, XTrain, y_v_train, iter_num)\n",
    "# plot the avg_cost_func \n",
    "plt.plot(costList3)\n",
    "# x label: \"Iteration number\"\n",
    "plt.xlabel('Iteration number')\n",
    "# y label: \"Average J\"\n",
    "plt.ylabel('Average J')\n",
    "plt.show()\n",
    "y_pred3=predict_y(W3,b3,XTest,len(nn_structure),3)\n",
    "print('Prediction accuracy is {}%'.format(accuracy_score(yTest, y_pred3) * 100))\n"
   ]
  },
  {
   "cell_type": "markdown",
   "metadata": {},
   "source": [
    "## Expereiemnting with own parapeters on TanH function\n",
    "### Iter Num= 2000\n",
    "### structure= [64, 30, 20, 10]"
   ]
  },
  {
   "cell_type": "code",
   "execution_count": 23,
   "metadata": {},
   "outputs": [
    {
     "name": "stdout",
     "output_type": "stream",
     "text": [
      "Starting gradient descent for 2000 iterations\n",
      "Iteration 0 \n",
      "Iteration 100 \n",
      "Iteration 200 \n",
      "Iteration 300 \n",
      "Iteration 400 \n",
      "Iteration 500 \n",
      "Iteration 600 \n",
      "Iteration 700 \n",
      "Iteration 800 \n",
      "Iteration 900 \n",
      "Iteration 1000 \n",
      "Iteration 1100 \n",
      "Iteration 1200 \n",
      "Iteration 1300 \n",
      "Iteration 1400 \n",
      "Iteration 1500 \n",
      "Iteration 1600 \n",
      "Iteration 1700 \n",
      "Iteration 1800 \n",
      "Iteration 1900 \n"
     ]
    },
    {
     "data": {
      "image/png": "[encoded data removed]",
      "text/plain": [
       "<Figure size 432x288 with 1 Axes>"
      ]
     },
     "metadata": {
      "needs_background": "light"
     },
     "output_type": "display_data"
    },
    {
     "name": "stdout",
     "output_type": "stream",
     "text": [
      "Prediction accuracy is 96.52294853963839%\n"
     ]
    }
   ],
   "source": [
    "# train the NN with the nn_structure and 3000 iterations\n",
    "iter_num4=2000\n",
    "nn_structure4=[64, 30, 20, 10]\n",
    "\n",
    "W4, b4, costList4 = train_nn(2,nn_structure4, XTrain, y_v_train, iter_num4)\n",
    "# plot the avg_cost_func \n",
    "plt.plot(costList4)\n",
    "# x label: \"Iteration number\"\n",
    "plt.xlabel('Iteration number')\n",
    "# y label: \"Average J\"\n",
    "plt.ylabel('Average J')\n",
    "plt.show()\n",
    "y_pred4=predict_y(W4,b4,XTest,len(nn_structure4),2)\n",
    "print('Prediction accuracy is {}%'.format(accuracy_score(yTest, y_pred4) * 100))"
   ]
  },
  {
   "cell_type": "markdown",
   "metadata": {},
   "source": [
    "# Reporting\n",
    "\n",
    "* Sigmoid function with 3000 iteration and nn_structure= [64, 30, 10] gave accuracy of 95.41029207232266%%\n",
    "\n",
    "* TanH function with 3000 iteration and nn_structure= [64, 30, 10] gave accuracy of 96.105702364395%\n",
    "\n",
    "* Relu function with 3000 iteration and nn_structure= [64, 30, 10] gave accuracy of 10.15299026425591%\n",
    "\n",
    "* Tanh function with 2000 iteration and nn_structure= [64,30,20, 10] gave accuracy of 96.52294853963839%\n",
    "\n",
    "Based on my results the best functions to use was the TanH function gave the best accuracies, it was slightly better than Sigmoid by 1 %, but both equlively yeilded high precenteges. The worst function to  use is the Relu as it yeilded 10% accuracy rate, which is waay lower than any of the other functions. I also tried my own parameters, using Tanh function of 4 layers and 2000 iteration and it also yeilded into a high accuracy rate.\n"
   ]
  },
  {
   "cell_type": "code",
   "execution_count": 22,
   "metadata": {},
   "outputs": [],
   "source": [
    "# print(y_pred1)\n",
    "# print(yTest)\n",
    "# print(y_v_test)"
   ]
  }
 ],
 "metadata": {
  "kernelspec": {
   "display_name": "Python 3",
   "language": "python",
   "name": "python3"
  },
  "language_info": {
   "codemirror_mode": {
    "name": "ipython",
    "version": 3
   },
   "file_extension": ".py",
   "mimetype": "text/x-python",
   "name": "python",
   "nbconvert_exporter": "python",
   "pygments_lexer": "ipython3",
   "version": "3.8.3"
  }
 },
 "nbformat": 4,
 "nbformat_minor": 2
}
